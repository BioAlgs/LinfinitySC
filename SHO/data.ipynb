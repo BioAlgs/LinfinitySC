{
 "cells": [
  {
   "cell_type": "markdown",
   "metadata": {},
   "source": [
    "### Import the necessary libraries"
   ]
  },
  {
   "cell_type": "code",
   "execution_count": 1,
   "metadata": {},
   "outputs": [],
   "source": [
    "import yfinance as yf\n",
    "import pandas as pd"
   ]
  },
  {
   "cell_type": "markdown",
   "metadata": {},
   "source": [
    "### Load in the datasets"
   ]
  },
  {
   "cell_type": "code",
   "execution_count": null,
   "metadata": {},
   "outputs": [],
   "source": [
    "name_path = 'SEC_data/2005_Financial_Analysis_Sample.xlsx'\n",
    "stock_name = pd.read_excel(name_path)\n",
    "print(stock_name.head())"
   ]
  },
  {
   "cell_type": "markdown",
   "metadata": {},
   "source": [
    "### Transform the datasets"
   ]
  },
  {
   "cell_type": "code",
   "execution_count": null,
   "metadata": {},
   "outputs": [],
   "source": [
    "# Select 'tsymbol' and 'sho_pilot' columns and remove duplicates\n",
    "df_sho_pilot = stock_name[['tsymbol', 'sho_pilot']].drop_duplicates()\n",
    "# Summarize the number of 1's and 0's for 'sho_pilot' column\n",
    "summary_df = pd.DataFrame({\n",
    "    'count_1': [df_sho_pilot['sho_pilot'].sum()],\n",
    "    'count_0': [(df_sho_pilot['sho_pilot'] == 0).sum()]\n",
    "})\n",
    "# Display the summarized data frame\n",
    "print(summary_df)"
   ]
  },
  {
   "cell_type": "code",
   "execution_count": 4,
   "metadata": {},
   "outputs": [],
   "source": [
    "# price_path = 'SEC_data/GMW_LLS_codes/CRSP_Daily_AprilMay2005.dta'\n",
    "# crsp_daily = pd.read_stata(price_path)\n",
    "# # Filter rows where 'tsymbol' in crsp_daily is present in stock_name\n",
    "# df_price = crsp_daily[crsp_daily['tsymbol'].isin(stock_name['tsymbol'])]\n",
    "# df_price = df_price[['date', 'tsymbol', 'prc']]\n",
    "# df_price = df_price.drop_duplicates(subset=['date', 'tsymbol'])\n",
    "# df_price = df_price.pivot(index='date', columns='tsymbol', values='prc')"
   ]
  },
  {
   "cell_type": "markdown",
   "metadata": {},
   "source": [
    "### Download data from Yahoo Finance"
   ]
  },
  {
   "cell_type": "code",
   "execution_count": null,
   "metadata": {},
   "outputs": [],
   "source": [
    "# List of stock symbols (assuming stock_name['tsymbol'] is a pandas Series)\n",
    "stock_symbols = stock_name['tsymbol'].tolist()\n",
    "\n",
    "# Initialize an empty dictionary to store the price data\n",
    "stock_data = {}\n",
    "\n",
    "# Define the start and end date for the time range\n",
    "start_date = \"2005-01-01\"\n",
    "end_date = \"2005-05-31\"\n",
    "\n",
    "# Initialize counters for success and failure\n",
    "success_count = 0\n",
    "failure_count = 0\n",
    "\n",
    "# Initialize a list to store the availability (1 for success, 0 for failure)\n",
    "availability = []\n",
    "\n",
    "# Loop through each stock symbol\n",
    "for symbol in stock_symbols:\n",
    "    try:\n",
    "        # Download historical data for the stock for the specified date range\n",
    "        data = yf.download(symbol, start=start_date, end=end_date, period='5d')\n",
    "\n",
    "        # Check if the data is not empty (i.e., download was successful)\n",
    "        if not data.empty:\n",
    "            stock_data[symbol] = data\n",
    "            success_count += 1\n",
    "            availability.append(1)  # Success, so mark 1\n",
    "            print(f\"Successfully downloaded data for {symbol}\")\n",
    "        else:\n",
    "            failure_count += 1\n",
    "            availability.append(0)  # Failure, so mark 0\n",
    "            print(f\"No data available for {symbol}\")\n",
    "\n",
    "    except Exception as e:\n",
    "        # Handle errors in case the stock symbol is invalid or not found\n",
    "        failure_count += 1\n",
    "        availability.append(0)  # Failure, so mark 0\n",
    "        print(f\"Could not download data for {symbol}: {e}\")\n",
    "\n",
    "# Add the 'available' column to stock_name DataFrame\n",
    "stock_name['available'] = availability"
   ]
  },
  {
   "cell_type": "code",
   "execution_count": null,
   "metadata": {},
   "outputs": [],
   "source": [
    "# Print success and failure counts\n",
    "print(f\"Successfully downloaded data for {success_count} stocks.\")\n",
    "print(f\"Failed to download data for {failure_count} stocks.\")"
   ]
  },
  {
   "cell_type": "code",
   "execution_count": null,
   "metadata": {},
   "outputs": [],
   "source": [
    "# Assuming stock_name has the columns 'available' and 'sho_pilot'\n",
    "contingency_table = pd.crosstab(stock_name['available'], stock_name['sho_pilot'])\n",
    "\n",
    "# Display the contingency table\n",
    "print(contingency_table)"
   ]
  },
  {
   "cell_type": "code",
   "execution_count": null,
   "metadata": {},
   "outputs": [],
   "source": [
    "# Initialize an empty list to store the sector information\n",
    "sectors = []\n",
    "\n",
    "# Loop through each stock symbol\n",
    "for symbol in stock_symbols:\n",
    "    try:\n",
    "        # Download stock information using yfinance\n",
    "        stock_info = yf.Ticker(symbol)\n",
    "        \n",
    "        # Get sector information, or 'Sector not available' if missing\n",
    "        sector = stock_info.info.get('sector', 'Sector not available')\n",
    "        sectors.append(sector)\n",
    "        \n",
    "        # print(f\"Stock: {symbol}, Sector: {sector}\")\n",
    "    \n",
    "    except Exception as e:\n",
    "        # In case of an error, mark the sector as 'Sector not available'\n",
    "        sectors.append('NA')\n",
    "        # print(f\"Could not retrieve sector information for {symbol}: {e}\")\n",
    "\n",
    "# Add the 'sector' column to the stock_name DataFrame\n",
    "stock_name['sector'] = sectors\n",
    "\n",
    "# Generate a summary table for the 'sector' variable\n",
    "summary_table = stock_name['sector'].value_counts()\n",
    "\n",
    "# Display the summary table\n",
    "print(summary_table)"
   ]
  },
  {
   "cell_type": "code",
   "execution_count": null,
   "metadata": {},
   "outputs": [],
   "source": [
    "# Generate a summary table for the 'sector' variable\n",
    "summary_table = stock_name['sector'].value_counts()\n",
    "# Display the summary table\n",
    "print(summary_table)\n",
    "\n",
    "# Filter the stock_name DataFrame to include only available companies\n",
    "available_stock_name = stock_name[stock_name['available'] == 1]\n",
    "\n",
    "# Save the 'sho_pilot' and 'sector' columns to a separate CSV file for available companies\n",
    "available_stock_name[['tsymbol', 'sho_pilot', 'sector']].to_csv('sho_sector_info.csv', index=False)"
   ]
  },
  {
   "cell_type": "code",
   "execution_count": null,
   "metadata": {},
   "outputs": [],
   "source": [
    "# Filter the stock_name DataFrame to get only available companies\n",
    "available_companies = stock_name[stock_name['available'] == 1]\n",
    "\n",
    "# Generate a summary table using sector and sho_pilot\n",
    "summary_table = pd.crosstab(available_companies['sector'], available_companies['sho_pilot'])\n",
    "\n",
    "# Add a total column to get the sum of companies in each sector\n",
    "summary_table['Total'] = summary_table.sum(axis=1)\n",
    "\n",
    "# Sort the table by the 'Total' column in descending order\n",
    "ranked_table = summary_table.sort_values(by='Total', ascending=False)\n",
    "\n",
    "# Display the ranked summary table\n",
    "print(ranked_table)"
   ]
  },
  {
   "cell_type": "code",
   "execution_count": null,
   "metadata": {},
   "outputs": [],
   "source": [
    "# Filter the stock_name DataFrame to get only the companies in a sector\n",
    "tech_symbols = stock_name[(stock_name['sector'] == 'Energy') & (stock_name['available'] == 1)]['tsymbol'].tolist()\n",
    "\n",
    "# Initialize an empty list to store the extracted Adj Close data for each symbol\n",
    "adj_close_data = []\n",
    "\n",
    "# Loop through each stock symbol in the filtered tech_symbols list\n",
    "for symbol in tech_symbols:\n",
    "    if symbol in stock_data:  # Ensure the symbol exists in stock_data\n",
    "        # Extract the 'Adj Close' column and rename it to the stock symbol\n",
    "        adj_close_series = stock_data[symbol]['Adj Close'].rename(symbol)\n",
    "        \n",
    "        # Append the series to the list\n",
    "        adj_close_data.append(adj_close_series)\n",
    "\n",
    "# Combine all the extracted 'Adj Close' series into a single DataFrame, aligning by date\n",
    "adj_close_df = pd.concat(adj_close_data, axis=1)\n",
    "\n",
    "# Display the combined DataFrame\n",
    "print(adj_close_df.head())\n",
    "\n",
    "# Save the combined Adj Close DataFrame to a CSV file\n",
    "adj_close_df.to_csv('Energy_data.csv')"
   ]
  },
  {
   "cell_type": "code",
   "execution_count": null,
   "metadata": {},
   "outputs": [],
   "source": [
    "# Filter the stock_name DataFrame to get only the 116 available Technology companies\n",
    "tech_available = stock_name[(stock_name['sector'] == 'Technology') & (stock_name['available'] == 1)]\n",
    "\n",
    "# Get the lists of stock symbols for sho_pilot = 1 and sho_pilot = 0\n",
    "sho_pilot_1_list = tech_available[tech_available['sho_pilot'] == 1]['tsymbol'].tolist()\n",
    "sho_pilot_0_list = tech_available[tech_available['sho_pilot'] == 0]['tsymbol'].tolist()\n",
    "\n",
    "# Print the lists\n",
    "print(\"Companies with sho_pilot = 1:\")\n",
    "print(sho_pilot_1_list)\n",
    "\n",
    "print(\"\\nCompanies with sho_pilot = 0:\")\n",
    "print(sho_pilot_0_list)"
   ]
  }
 ],
 "metadata": {
  "kernelspec": {
   "display_name": "synth",
   "language": "python",
   "name": "python3"
  },
  "language_info": {
   "codemirror_mode": {
    "name": "ipython",
    "version": 3
   },
   "file_extension": ".py",
   "mimetype": "text/x-python",
   "name": "python",
   "nbconvert_exporter": "python",
   "pygments_lexer": "ipython3",
   "version": "3.12.5"
  }
 },
 "nbformat": 4,
 "nbformat_minor": 2
}
