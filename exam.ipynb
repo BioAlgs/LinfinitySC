{
 "cells": [
  {
   "cell_type": "code",
   "execution_count": 3,
   "id": "80a6a5fc-b82a-4259-a520-d70307644a58",
   "metadata": {},
   "outputs": [],
   "source": [
    "# import necessary libraries\n",
    "import time\n",
    "import datetime\n",
    "import numpy as np\n",
    "import cvxpy as cp\n",
    "\n",
    "import os\n",
    "# os.chdir(\"Git/Synth\")\n",
    "\n",
    "from utils.synth import *\n",
    "from utils.sim_ar import *\n",
    "from utils.competitors import *\n",
    "from cvxopt import matrix, solvers\n",
    "import matplotlib.pyplot as plt\n",
    "np.set_printoptions(suppress=True)"
   ]
  },
  {
   "cell_type": "code",
   "execution_count": null,
   "id": "ff79a4f2-07ce-40e4-8f78-5c3582dce1c6",
   "metadata": {},
   "outputs": [],
   "source": [
    "import numpy as np\n",
    "\n",
    "J=100\n",
    "# Example vector\n",
    "vector = np.ones(J)/J\n",
    "\n",
    "# Calculate the L2 norm (Euclidean norm)\n",
    "l2_norm = np.linalg.norm(vector)\n",
    "print(\"L2 Norm:\", l2_norm)\n",
    "\n",
    "# Calculate the L-inf norm (Infinity norm)\n",
    "l_inf_norm = np.linalg.norm(vector, np.inf)\n",
    "print(\"L-inf Norm:\", l_inf_norm)"
   ]
  },
  {
   "cell_type": "code",
   "execution_count": 24,
   "id": "48c17ed1-0c9a-4afa-aa2c-747a9ba7c5ea",
   "metadata": {},
   "outputs": [],
   "source": [
    "T0 = 100\n",
    "T1 = 5\n",
    "J = 30\n",
    "rho1, rho2 = 0, 0\n",
    "gamma = 0\n",
    "trt_effect = 5\n",
    "sig2 = 1\n",
    "sig = np.sqrt(sig2)\n",
    "DGP = 2\n",
    "fixed_alpha = None\n",
    "fixed_lam = None\n",
    "pollution = None\n",
    "scale = False\n",
    "intercept = False"
   ]
  },
  {
   "cell_type": "code",
   "execution_count": 64,
   "id": "5980bbb6-0c1f-44fb-abb3-940476693cb7",
   "metadata": {},
   "outputs": [],
   "source": [
    "T01 = T0 + T1\n",
    "F1 = np.random.normal(scale=1, size=T01)\n",
    "F2 = np.random.normal(scale=2, size=T01)\n",
    "\n",
    "F1 += 4\n",
    "F2 += 4\n",
    "\n",
    "lambda1 = np.arange(1, J + 1) / J\n",
    "lambda2 = lambda1.copy()\n",
    "\n",
    "q2, r2 = divmod(J, 2)\n",
    "q3, r3 = divmod(J, 3)\n",
    "w1 = np.ones(J) / J\n",
    "w2 = np.concatenate(([-2/J]*(q2), [2/J]*(q2+r2))) + np.random.uniform(-1/(J**2), 1/(J**2), J)\n",
    "np.random.shuffle(w2)\n",
    "w3 = np.concatenate(([-2/J]*(q3), [2/J]*(q3), np.zeros(q3+r3)))\n",
    "np.random.shuffle(w3)\n",
    "# w6 = np.concatenate((np.zeros(J-4), [-2/3, -2/3, 2/3, 2/3]))\n",
    "# np.random.shuffle(w6)\n",
    "# w5 = np.random.uniform(-4/J, 4/J, J)\n",
    "w4 = np.random.beta(0.2, 0.2, J)\n",
    "w4 = (w4 - 0.5) * 3/J\n",
    "w = np.outer(w1, (DGP == 1)) + np.outer(w2, (DGP == 2)) + \\\n",
    "    np.outer(w3, (DGP == 3)) + np.outer(w4, (DGP == 4))\n",
    "y = np.kron(np.ones(T01), lambda1) + np.kron(F1, np.ones(J)) + \\\n",
    "    np.kron(F2, lambda2)\n",
    "\n",
    "eps = np.empty((T01, J))\n",
    "for j in range(J):\n",
    "    eps[:, j] = generate_ARMA_series(T01, rho1, gamma)\n",
    "\n",
    "Y0 = y.reshape(T01, J) + eps\n",
    "u = generate_ARMA_series(T01, rho2, gamma)\n",
    "# if DGP == 6:\n",
    "#     Y1 = np.zeros((T01, 1))\n",
    "#     Y1[:T0] = Y0[:T0] @ w\n",
    "#     Y1[T0:] = Y0[T0:] @ w * 0.95\n",
    "# else: \n",
    "\n",
    "# if DGP <= 3:\n",
    "#     Y1 = Y0 @ w + 0.1 * u.reshape(-1, 1)\n",
    "# else:\n",
    "#     Y1 = Y0 @ w + 1.0 * u.reshape(-1, 1)\n",
    "Y1 = Y0 @ w + sig * u.reshape(-1, 1)\n",
    "Y1 = Y1.flatten()\n",
    "Y1[T0:] += trt_effect\n",
    "\n",
    "## separate into pre-treatment and post-treatment\n",
    "Y0_pre = Y0[:T0,:]\n",
    "Y0_post = Y0[T0:,:]\n",
    "Y1_pre = Y1[:T0]\n",
    "Y1_post = Y1[T0:]\n",
    "\n",
    "## add some contamination to the data\n",
    "if pollution is not None:\n",
    "    Y0_post = pollute(Y0_post, w, pollution)"
   ]
  },
  {
   "cell_type": "code",
   "execution_count": 65,
   "id": "bc89328e-5f18-4118-9a32-4a822c6629be",
   "metadata": {},
   "outputs": [],
   "source": [
    "## competitors\n",
    "# w_did = np.nan\n",
    "# w_l1asso = l1asso(Y1_pre, Y0_pre, 1)\n",
    "w_sc = sc(Y1_pre, Y0_pre)    \n",
    "\n",
    "## new loo\n",
    "# idxs = np.random.choice(T0, T0, replace=False)\n",
    "# idxs1, idxs2 = idxs[:T0//2], idxs[T0//2:]\n",
    "idxs1 = np.arange(T0)\n",
    "idxs2 = idxs1.copy()\n",
    "# alpha_sum_l2, lam_sum_l2 = loo_selector_parallel(Y0_post, method='sum-l2')\n",
    "# alpha_sum_inf, lam_sum_inf = loo_selector_parallel(Y0_post, method='sum-inf')\n",
    "alpha_inf, lam_inf = loo_selector_parallel(Y1_pre[idxs1], Y0_pre[idxs1], method='inf', \n",
    "                                           fixed_alpha=fixed_alpha, fixed_lam=fixed_lam, \n",
    "                                           scale=scale, intercept=intercept)\n",
    "alpha_l1, lam_l1 = loo_selector_parallel(Y1_pre[idxs1], Y0_pre[idxs1], method='l1', \n",
    "                                         fixed_alpha=fixed_alpha, fixed_lam=fixed_lam, \n",
    "                                           scale=scale, intercept=intercept)\n",
    "alpha_l2, lam_l2 = loo_selector_parallel(Y1_pre[idxs1], Y0_pre[idxs1], method='l2', \n",
    "                                         fixed_alpha=fixed_alpha, fixed_lam=fixed_lam, \n",
    "                                           scale=scale, intercept=intercept)\n",
    "alpha_l1_inf, lam_l1_inf = loo_selector_parallel(Y1_pre[idxs1], Y0_pre[idxs1], method='l1-inf', \n",
    "                                                 fixed_alpha=fixed_alpha, fixed_lam=fixed_lam, \n",
    "                                           scale=scale, intercept=intercept)\n",
    "# alpha_l1_inf = 0.0\n",
    "alpha_l1_l2, lam_l1_l2 = loo_selector_parallel(Y1_pre[idxs1], Y0_pre[idxs1], method='l1-l2', \n",
    "                                               fixed_alpha=fixed_alpha, fixed_lam=fixed_lam, \n",
    "                                           scale=scale, intercept=intercept)\n",
    "\n",
    "# w_sum_l2 = our(Y1_pre, Y0_pre, alpha_sum_l2, lam_sum_l2, 'sum-l2')\n",
    "# w_sum_inf = our(Y1_pre, Y0_pre, alpha_sum_inf, lam_sum_inf, 'sum-inf')\n",
    "w_inf = our(Y1_pre[idxs2], Y0_pre[idxs2], alpha_inf, lam_inf, 'inf', \n",
    "            scale=scale, intercept=intercept)\n",
    "w_l1 = our(Y1_pre[idxs2], Y0_pre[idxs2], alpha_l1, lam_l1, 'l1',  \n",
    "           scale=scale, intercept=intercept)\n",
    "w_l2 = our(Y1_pre[idxs2], Y0_pre[idxs2], alpha_l2, lam_l2, 'l2', \n",
    "           scale=scale, intercept=intercept)\n",
    "w_l1_inf = our(Y1_pre[idxs2], Y0_pre[idxs2], alpha_l1_inf, lam_l1_inf, 'l1-inf', \n",
    "               scale=scale, intercept=intercept)\n",
    "w_l1_l2 = our(Y1_pre[idxs2], Y0_pre[idxs2], alpha_l1_l2, lam_l1_l2, 'l1-l2',\n",
    "              scale=scale, intercept=intercept)\n",
    "\n",
    "# tau_did = did(Y1, Y0)[T0:]\n",
    "if intercept:\n",
    "    Y0_post_plus = np.hstack([np.ones((Y1_post.shape[0], 1)), Y0_post])\n",
    "else:\n",
    "    Y0_post_plus = Y0_post\n",
    "# tau_l1asso = Y1_post - Y0_post_plus @ w_l1asso\n",
    "\n",
    "tau_oracle = Y1_post - Y0_post @ w.flatten()\n",
    "tau_sc = Y1_post - Y0_post @ w_sc\n",
    "# tau_sum_l2 = Y1_post - Y0_post_plus @ w_sum_l2\n",
    "# tau_sum_inf = Y1_post - Y0_post_plus @ w_sum_inf\n",
    "tau_l1 = Y1_post - Y0_post_plus @ w_l1\n",
    "tau_l2 = Y1_post - Y0_post_plus @ w_l2\n",
    "tau_inf = Y1_post - Y0_post_plus @ w_inf\n",
    "tau_l1_l2 = Y1_post - Y0_post_plus @ w_l1_l2\n",
    "tau_l1_inf = Y1_post - Y0_post_plus @ w_l1_inf"
   ]
  },
  {
   "cell_type": "code",
   "execution_count": null,
   "id": "2fdcd80a-674e-4e4c-a180-515564023e43",
   "metadata": {},
   "outputs": [],
   "source": [
    "Tau = np.array([tau_sc, tau_l2, tau_l1, tau_l1_l2, tau_inf, tau_l1_inf, tau_oracle])\n",
    "print(np.mean(np.square(Tau - trt_effect), 1))"
   ]
  },
  {
   "cell_type": "code",
   "execution_count": 67,
   "id": "3174b456-144a-4da4-8f80-f7822ebd302a",
   "metadata": {},
   "outputs": [],
   "source": [
    "# print(w_sc - w.flatten())"
   ]
  },
  {
   "cell_type": "code",
   "execution_count": null,
   "id": "37a48b20-c37b-43f4-9364-d18a8382f81d",
   "metadata": {},
   "outputs": [],
   "source": [
    "print(w_l1_l2 - w.flatten())"
   ]
  },
  {
   "cell_type": "code",
   "execution_count": null,
   "id": "eee3ef96-1bac-4c82-8d87-898ca923b108",
   "metadata": {},
   "outputs": [],
   "source": [
    "print(w_l1_inf - w.flatten())"
   ]
  },
  {
   "cell_type": "code",
   "execution_count": null,
   "id": "6566e48a-1884-407b-8965-2681bcd33e06",
   "metadata": {},
   "outputs": [],
   "source": [
    "w.flatten()"
   ]
  },
  {
   "cell_type": "code",
   "execution_count": null,
   "id": "c995bd74-2949-4f1d-a47a-f32a11cbf7cc",
   "metadata": {},
   "outputs": [],
   "source": [
    "w_l2"
   ]
  },
  {
   "cell_type": "code",
   "execution_count": null,
   "id": "5d4dd42f-e6b7-403d-b070-1e29e6500e37",
   "metadata": {},
   "outputs": [],
   "source": [
    "w_inf"
   ]
  }
 ],
 "metadata": {
  "kernelspec": {
   "display_name": "cvx",
   "language": "python",
   "name": "python3"
  },
  "language_info": {
   "codemirror_mode": {
    "name": "ipython",
    "version": 3
   },
   "file_extension": ".py",
   "mimetype": "text/x-python",
   "name": "python",
   "nbconvert_exporter": "python",
   "pygments_lexer": "ipython3",
   "version": "3.12.5"
  }
 },
 "nbformat": 4,
 "nbformat_minor": 5
}
